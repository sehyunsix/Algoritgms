{
 "cells": [
  {
   "cell_type": "code",
   "execution_count": 125,
   "metadata": {},
   "outputs": [],
   "source": [
    "def search_block(start):\n",
    "  global target_map,blocks_index,visited,target_value,target\n",
    "  visited[start[0]][start[1]]=1\n",
    "  d=[[1,0],[0,1],[-1,0],[0,-1]]\n",
    "  target.append(start)\n",
    "  nexts= [[start[0]+i[0],start[1]+i[1]] for i in d]\n",
    "  for next in nexts:\n",
    "    if next[0]>=0 and next[0]<target_map.shape[0] and next[1]>=0 and next[1]<target_map.shape[1] and visited[next[0]][next[1]]==0:\n",
    "      if target_map[next[0]][next[1]]==target_value:\n",
    "        blocks_index.remove(next)\n",
    "        search_block(next)\n",
    "  return target\n"
   ]
  },
  {
   "cell_type": "code",
   "execution_count": 3,
   "metadata": {},
   "outputs": [],
   "source": [
    "import math"
   ]
  },
  {
   "cell_type": "code",
   "execution_count": 6,
   "metadata": {},
   "outputs": [
    {
     "data": {
      "text/plain": [
       "57462357505803375604893834658665168251899919793850512934468881710397678593302188064618445132583370701755893065787216750992391223467601994741594656878559929037277303674963658032197224327768110236651567704673226756781828332650887849150208195780031161286578505113618731045004523840401144118298192191997565735245181433457469532981432785237769191864102953974244072964471109551273603780184330987071947790993108191904370472373403157802158903129815170101708451875442019845175637901995588390614304812103202403626211504997668649346891167495657556154392183988627948442807346603688457854135114491955258804187129028256547543888109987151649038111791932035229202856007767332717845596528598314477979861265222941138323298702349967224867703420888363395662988291273283611081068577160905840445308086112429900453394212790633910614322699210850302387512579976209123523546689147207974269396548873838155355768985614160932799226261509866933143702889005270480654844312094564956178277998090168826124850606847021667494019587077659107276117413835912767949017954979839258481340540145909025953956582025656306426226560"
      ]
     },
     "execution_count": 6,
     "metadata": {},
     "output_type": "execute_result"
    }
   ],
   "source": [
    "math.comb(5000,4000)"
   ]
  },
  {
   "cell_type": "code",
   "execution_count": null,
   "metadata": {},
   "outputs": [],
   "source": [
    "\n",
    "def get_tiles():\n",
    "  ''' map에서 block들을 가져오는 함수 serach DFS를 사용한다.'''\n",
    "\n",
    "def get_blocks():\n",
    "  ''' map에서 block들을 가져오는 함수 serach DFS를 사용한다.'''\n",
    "  target_map= np.array([[1,1,0,0],[1,0,0,0],[1,0,1,1],[0,0,1,1]])\n",
    "  visited = np.zeros(target_map.shape)\n",
    "  print(target_map)\n",
    "  blocks =[]\n",
    "\n",
    "  index = np.where(target_map==1)\n",
    "  blocks_index =[[x[0],x[1]] for i,x in enumerate(zip(index[0],index[1]))]\n",
    "  target_value =1\n",
    "  print(blocks_index)\n",
    "  for x  in blocks_index:\n",
    "    target=[]\n",
    "    blocks.append(search_block(x))\n",
    "  for i,block in enumerate(blocks):\n",
    "    print(f'{i}.block :{block}')\n",
    "\n",
    "  # find board\n",
    "    boards =[]\n",
    "    target_map= np.array([[1,1,0,1],[1,1,0,1],[1,0,0,1],[1,1,1,0]])\n",
    "    visited = np.zeros(target_map.shape)\n",
    "    print(target_map)\n",
    "\n",
    "    index = np.where(target_map==0)\n",
    "    blocks_index =[[x[0],x[1]] for i,x in enumerate(zip(index[0],index[1]))]\n",
    "    target_value =0\n",
    "    for x  in blocks_index:\n",
    "      target=[]\n",
    "      boards.append(search_block(x))\n",
    "    for i,board in enumerate(boards):\n",
    "      print(f'{i}.board :{board}')"
   ]
  },
  {
   "cell_type": "code",
   "execution_count": 164,
   "metadata": {},
   "outputs": [
    {
     "data": {
      "text/plain": [
       "array([[1, 1, 0, 1],\n",
       "       [1, 1, 0, 1],\n",
       "       [1, 0, 0, 1],\n",
       "       [1, 1, 1, 0]])"
      ]
     },
     "execution_count": 164,
     "metadata": {},
     "output_type": "execute_result"
    }
   ],
   "source": [
    "# DFS stack으로 활용하기\n",
    "map = np.array([[1,1,0,1],[1,1,0,1],[1,0,0,1],[1,1,1,0]])\n"
   ]
  },
  {
   "cell_type": "code",
   "execution_count": 172,
   "metadata": {},
   "outputs": [],
   "source": []
  },
  {
   "cell_type": "code",
   "execution_count": 238,
   "metadata": {},
   "outputs": [],
   "source": [
    "map = np.array([[1,1,0,1],[1,1,0,1],[1,0,0,1],[1,1,1,0]])\n",
    "def find_block_position(map):\n",
    "  bolcks_position = []\n",
    "  block_idx = np.where(map==0)\n",
    "  visited = np.zeros(map.shape)\n",
    "  block_idx = [ x for i,x in enumerate(zip(block_idx[0],block_idx[1]))]\n",
    "  for start in  block_idx:\n",
    "    stack = [start]\n",
    "    block= []\n",
    "    #block_making\n",
    "    while stack:\n",
    "      print(stack)\n",
    "      current = stack.pop()\n",
    "      block.append([current[0],current[1]])\n",
    "      visited[current[0]][current[1]]=1\n",
    "      d=[[1,0],[0,1],[-1,0],[0,-1]]\n",
    "      nexts= [[current[0]+i[0],current[1]+i[1]] for i in d]\n",
    "      for next in nexts:\n",
    "        if next[0]>=0 and next[0]<map.shape[0] and next[1]>=0 and next[1]<map.shape[1] and visited[next[0]][next[1]]==0:\n",
    "          if map[next[0]][next[1]]==0:\n",
    "            stack.append(next)\n",
    "            block_idx.remove((next[0],next[1]))\n",
    "    bolcks_position.append(block)\n",
    "  return bolcks_position,visited,block_idx"
   ]
  },
  {
   "cell_type": "code",
   "execution_count": 240,
   "metadata": {},
   "outputs": [
    {
     "name": "stdout",
     "output_type": "stream",
     "text": [
      "[(0, 2)]\n",
      "[[1, 2]]\n",
      "[[2, 2]]\n",
      "[[2, 1]]\n",
      "[(3, 3)]\n"
     ]
    },
    {
     "data": {
      "text/plain": [
       "([[[0, 2], [1, 2], [2, 2], [2, 1]], [[3, 3]]],\n",
       " array([[0., 0., 1., 0.],\n",
       "        [0., 0., 1., 0.],\n",
       "        [0., 1., 1., 0.],\n",
       "        [0., 0., 0., 1.]]),\n",
       " [(0, 2), (3, 3)])"
      ]
     },
     "execution_count": 240,
     "metadata": {},
     "output_type": "execute_result"
    }
   ],
   "source": [
    "blocks_postion,visited,block_idx = find_block_position(map)\n",
    "blocks_postion,visited,block_idx"
   ]
  },
  {
   "cell_type": "code",
   "execution_count": 265,
   "metadata": {},
   "outputs": [],
   "source": [
    "def title_hash_by_position(blocks_position):\n",
    "  min_y =min([tile[0] for tile in blocks_position])\n",
    "  max_y =max([tile[0] for tile in blocks_position])\n",
    "  min_x =min([tile[1] for tile in blocks_position])\n",
    "  max_x =max([tile[1] for tile in blocks_position])\n",
    "  tile_representations = [\n",
    "    list(\n",
    "        list([j,i] in blocks_position for j in range(min_y, max_y + 1))\n",
    "        for i in range(min_x, max_x + 1)\n",
    "    )\n",
    "    ]\n",
    "  def rotate90(tile):\n",
    "    return list(np.rot90(tile).tolist())\n",
    "  for __ in range(3):\n",
    "        tile_representations.append(rotate90(tile_representations[-1]))\n",
    "\n",
    "  return min(tile_representations)"
   ]
  },
  {
   "cell_type": "code",
   "execution_count": 267,
   "metadata": {},
   "outputs": [
    {
     "data": {
      "text/plain": [
       "[[True]]"
      ]
     },
     "execution_count": 267,
     "metadata": {},
     "output_type": "execute_result"
    }
   ],
   "source": [
    "title_hash_by_position(blocks_postion[1])"
   ]
  },
  {
   "cell_type": "code",
   "execution_count": 7,
   "metadata": {},
   "outputs": [
    {
     "data": {
      "text/plain": [
       "Counter({'a': 2, 'b': 2, 'c': 2})"
      ]
     },
     "execution_count": 7,
     "metadata": {},
     "output_type": "execute_result"
    }
   ],
   "source": [
    "from collections import Counter\n",
    "\n",
    "title_counter = Counter()\n",
    "l  = ['a','a','b','b','c','c']\n",
    "counter"
   ]
  },
  {
   "cell_type": "code",
   "execution_count": 10,
   "metadata": {},
   "outputs": [
    {
     "name": "stdout",
     "output_type": "stream",
     "text": [
      "a\n",
      "b\n"
     ]
    }
   ],
   "source": [
    "def func1():\n",
    "  print('a')\n",
    "def func2():\n",
    "  print('b')\n",
    "\n",
    "fun_list = [func1,func2]\n",
    "\n",
    "for f in fun_list:\n",
    "   f()"
   ]
  },
  {
   "cell_type": "code",
   "execution_count": 38,
   "metadata": {},
   "outputs": [],
   "source": [
    "import numpy as np\n",
    "\n",
    "def add( a, b):\n",
    "    return a+b\n",
    "def minus( a ,b):\n",
    "    return a -b\n",
    "\n",
    "\n",
    "\n",
    "def solution(numbers, target):\n",
    "    func_list = [add, minus]\n",
    "    #numbers를 다 더해야됨\n",
    "    solution_list =[0]\n",
    "    for current  in numbers:\n",
    "        if len(solution_list)>0:\n",
    "          old_solution =solution_list\n",
    "          solution_list =[]\n",
    "          for old in old_solution:\n",
    "                for f in func_list:\n",
    "                    solution_list.append(f(old,current))\n",
    "        else:\n",
    "            solution_list.append(current)\n",
    "    answer = len(np.where(np.array(solution_list)==target)[0])\n",
    "    return answer"
   ]
  },
  {
   "cell_type": "code",
   "execution_count": 39,
   "metadata": {},
   "outputs": [
    {
     "data": {
      "text/plain": [
       "5"
      ]
     },
     "execution_count": 39,
     "metadata": {},
     "output_type": "execute_result"
    }
   ],
   "source": [
    "solution([1, 1, 1, 1, 1],3)"
   ]
  },
  {
   "cell_type": "code",
   "execution_count": 84,
   "metadata": {},
   "outputs": [],
   "source": [
    "import numpy as np\n",
    "\n",
    "\n",
    "\n",
    "#BFS\n",
    "def solution(maps):\n",
    "    map=np.array(maps)\n",
    "    visit= np.zeros(map.shape)\n",
    "    solutions  =[]\n",
    "    d =[[-1,0],[0,-1],[1,0],[0,1]]\n",
    "    start=[0,0]\n",
    "    stack=[(start,0)]\n",
    "    step =0\n",
    "    while stack:\n",
    "        current=stack.pop()\n",
    "        # step, position init\n",
    "        step =current[1]\n",
    "        current = current[0]\n",
    "        visit[current[0]][current[1]] =1\n",
    "        step += 1\n",
    "        if current == [map.shape[0]-1 , map.shape[1]-1]:\n",
    "            solutions.append(step)\n",
    "            break\n",
    "        nexts =[[current[0]+i[0], current[1]+i[1]] for  i in d ]\n",
    "        for n in nexts:\n",
    "            if ((0<=n[0]<map.shape[0]) and (0<=n[1]<map.shape[1]) and visit[n[0]][n[1]]==0 and map[n[0]][n[1]]==1):\n",
    "                stack.append((n,step))\n",
    "\n",
    "    if len(solutions)>0:\n",
    "        answer = min(solutions)\n",
    "    else:\n",
    "        answer = -1\n",
    "    return answer"
   ]
  },
  {
   "cell_type": "code",
   "execution_count": null,
   "metadata": {},
   "outputs": [],
   "source": []
  },
  {
   "cell_type": "code",
   "execution_count": 85,
   "metadata": {},
   "outputs": [
    {
     "data": {
      "text/plain": [
       "11"
      ]
     },
     "execution_count": 85,
     "metadata": {},
     "output_type": "execute_result"
    }
   ],
   "source": [
    "m = [[1,0,1,1,1],[1,0,1,0,1],[1,0,1,1,1],[1,1,1,0,1],[0,0,0,0,1]]\n",
    "\n",
    "solution(m)"
   ]
  },
  {
   "cell_type": "code",
   "execution_count": null,
   "metadata": {},
   "outputs": [],
   "source": [
    "visited"
   ]
  },
  {
   "cell_type": "code",
   "execution_count": 57,
   "metadata": {},
   "outputs": [
    {
     "data": {
      "text/plain": [
       "array([[1, 0, 1, 1, 1],\n",
       "       [1, 0, 1, 0, 1],\n",
       "       [1, 0, 1, 1, 1],\n",
       "       [1, 1, 1, 0, 1],\n",
       "       [0, 0, 0, 0, 1]])"
      ]
     },
     "execution_count": 57,
     "metadata": {},
     "output_type": "execute_result"
    }
   ],
   "source": [
    "map"
   ]
  },
  {
   "cell_type": "code",
   "execution_count": 58,
   "metadata": {},
   "outputs": [
    {
     "data": {
      "text/plain": [
       "array([[1., 0., 1., 1., 1.],\n",
       "       [1., 0., 1., 0., 1.],\n",
       "       [1., 0., 1., 1., 1.],\n",
       "       [1., 1., 1., 0., 1.],\n",
       "       [0., 0., 0., 0., 1.]])"
      ]
     },
     "execution_count": 58,
     "metadata": {},
     "output_type": "execute_result"
    }
   ],
   "source": [
    "visit"
   ]
  }
 ],
 "metadata": {
  "kernelspec": {
   "display_name": "main",
   "language": "python",
   "name": "python3"
  },
  "language_info": {
   "codemirror_mode": {
    "name": "ipython",
    "version": 3
   },
   "file_extension": ".py",
   "mimetype": "text/x-python",
   "name": "python",
   "nbconvert_exporter": "python",
   "pygments_lexer": "ipython3",
   "version": "3.9.17"
  }
 },
 "nbformat": 4,
 "nbformat_minor": 2
}
