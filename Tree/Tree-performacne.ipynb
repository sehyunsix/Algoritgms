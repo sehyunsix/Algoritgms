{
 "cells": [
  {
   "cell_type": "code",
   "execution_count": 1,
   "metadata": {},
   "outputs": [
    {
     "name": "stdout",
     "output_type": "stream",
     "text": [
      "[1, 2, 3, 4, 5, 6, 7, 14, 15, 16]\n"
     ]
    }
   ],
   "source": [
    "from Btree import BTree\n",
    "from avltree import AVLTree\n",
    "import random\n",
    "import time"
   ]
  },
  {
   "cell_type": "markdown",
   "metadata": {},
   "source": [
    "|Category|Algorithms|Example|\n",
    "|---|---|---|\n",
    "DFS |O(V+E) |O(V+E) |\n",
    "BFG |O(V+E) |O(V+E) |\n",
    "BFG |O(V+E) |O(V+E) |\n",
    "BFG |O(V+E) |O(V+E) |\n",
    "BFG |O(V+E) |O(V+E) |\n",
    "BFG |O(V+E) |O(V+E) |"
   ]
  },
  {
   "cell_type": "markdown",
   "metadata": {},
   "source": [
    "# Balnced Binary Tree performance Test in Python \n",
    "\n",
    "1.Time complexity\n",
    "|tree|search|insert|delete|range|\n",
    "|---|---|---|---|---|\n",
    "|avltree|O(log n)|O(log n)|O(log n)|O(log n)|\n",
    "|Btree|O(n)|O(n)|O(n)|O(n)|\n",
    "\n",
    "2.Space complexity\n",
    "|tree|memory|\n",
    "|---|---|\n",
    "|avltree|O(n)|\n",
    "|Btree|O(n)|"
   ]
  },
  {
   "cell_type": "code",
   "execution_count": null,
   "metadata": {},
   "outputs": [],
   "source": [
    "avltree = AVLTree()\n",
    "\n",
    "values_insert = [ i for i in range (1000000)]\n",
    "values_find = [ i for i in range (1000000)]\n",
    "values_find.reverse()\n",
    "# values_insert = random.sample(range(1000001), 100000)\n",
    "# values_find = random.sample(range(1000001), 100000)\n",
    "\n",
    "start_time = time.time()\n",
    "for value in values_insert:\n",
    "    avltree.insert(value)\n",
    "avltree_insert_time = time.time() - start_time\n",
    "\n",
    "l=[]\n",
    "# 5. List에서 값의 존재 확인 및 시간 측정\n",
    "start_time = time.time()\n",
    "for value in values_find:\n",
    "    avltree.search(value)\n",
    "avltree_find_time = time.time() - start_time\n",
    "\n",
    "print(('avltree',avltree_find_time,avltree_insert_time))\n",
    "\n",
    "# btree =BTree()\n",
    "# start_time = time.time()\n",
    "# for value in values_insert:\n",
    "#     btree.insert(value)\n",
    "# btree_insert_time = time.time() - start_time\n",
    "\n",
    "# l=[]\n",
    "# # 5. List에서 값의 존재 확인 및 시간 측정\n",
    "# start_time = time.time()\n",
    "# for value in values_find:\n",
    "#     btree.get(value)\n",
    "\n",
    "# btree_find_time = time.time() - start_time\n",
    "\n",
    "# print(('btree',btree_find_time,btree_insert_time))"
   ]
  }
 ],
 "metadata": {
  "kernelspec": {
   "display_name": "main",
   "language": "python",
   "name": "python3"
  },
  "language_info": {
   "codemirror_mode": {
    "name": "ipython",
    "version": 3
   },
   "file_extension": ".py",
   "mimetype": "text/x-python",
   "name": "python",
   "nbconvert_exporter": "python",
   "pygments_lexer": "ipython3",
   "version": "3.10.13"
  }
 },
 "nbformat": 4,
 "nbformat_minor": 2
}
