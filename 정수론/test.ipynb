{
 "cells": [
  {
   "cell_type": "code",
   "execution_count": 58,
   "metadata": {},
   "outputs": [
    {
     "data": {
      "text/plain": [
       "[2, 1, 1, 0]"
      ]
     },
     "execution_count": 58,
     "metadata": {},
     "output_type": "execute_result"
    }
   ],
   "source": [
    "from collections import Counter\n",
    "import numpy as np\n",
    "\n",
    "def solution(edges):\n",
    "\n",
    "    #init\n",
    "    answer = [0,0,0,0]\n",
    "\n",
    "\n",
    "    #find_top_node\n",
    "    d_nodes_list = [e[0] for e in edges]\n",
    "    d_nodes_counter = Counter(d_nodes_list)\n",
    "    i_nodes_list = [e[1] for e in edges]\n",
    "    i_nodes_counter = Counter(i_nodes_list)\n",
    "\n",
    "    for d, count in d_nodes_counter.items():\n",
    "        if (count >= 2) & (i_nodes_counter[d] == 0):\n",
    "            top_node = d\n",
    "            answer[0] = d\n",
    "    start_node_indexs =np.where(np.array(d_nodes_list) == top_node)[0]\n",
    "\n",
    "    #remove_start_edge\n",
    "\n",
    "    start_nodes =[edges[start][1] for start in start_node_indexs]\n",
    "    #make graphs from start_node\n",
    "    graphs=[]\n",
    "    for start in start_nodes:\n",
    "        graph=[]\n",
    "        stack= [start]\n",
    "        while stack:\n",
    "            current=stack.pop()\n",
    "            if current in list(np.array(edges)[:,0]):\n",
    "                  idx = list(np.array(edges)[:,0]).index(current)\n",
    "                  next = edges[idx][1]\n",
    "                  graph.append((current,next))\n",
    "                  stack.append(next)\n",
    "                  edges.remove([current,next])\n",
    "        graphs.append(graph)\n",
    "    #classifier\n",
    "    for g in graphs:\n",
    "        nodes=[]\n",
    "        for e in g:\n",
    "            nodes.extend(e)\n",
    "        n = len(set(nodes))\n",
    "        if (len(g)==n-1) or (len(g)==0):\n",
    "            answer[2] =answer[2]+1\n",
    "        elif len(g)==n+1:\n",
    "            answer[3] =answer[3]+1\n",
    "        elif len(g)==n:\n",
    "           answer[1] =answer[1]+1\n",
    "    return answer\n",
    "\n",
    "solution([[4,3], [2, 3], [1, 1], [2, 1]])"
   ]
  },
  {
   "cell_type": "code",
   "execution_count": 59,
   "metadata": {},
   "outputs": [],
   "source": [
    "str = input()\n",
    "x1,y1,r1,x2,y2,r2 = str.split(\" \")\n",
    "\n",
    "r_d = pow(r1+r2,2)\n",
    "m_d = pow(x1-x2,2)+pow(y1-y2,2)\n",
    "if(x1==x2 and y1==y2 and r1==r2):\n",
    "    print(-1)\n",
    "elif(x1==x2 and y1==y2 and r1!=r2):\n",
    "    print(0)\n",
    "elif(m_d ==r_d):\n",
    "    print(1)\n",
    "elif(m_d >r_d):\n",
    "    print(0)\n",
    "elif(m_d <r_d):\n",
    "    print(2)\n",
    "else:\n",
    "    print(-1)"
   ]
  }
 ],
 "metadata": {
  "kernelspec": {
   "display_name": "Python 3",
   "language": "python",
   "name": "python3"
  },
  "language_info": {
   "codemirror_mode": {
    "name": "ipython",
    "version": 3
   },
   "file_extension": ".py",
   "mimetype": "text/x-python",
   "name": "python",
   "nbconvert_exporter": "python",
   "pygments_lexer": "ipython3",
   "version": "3.10.13"
  }
 },
 "nbformat": 4,
 "nbformat_minor": 2
}
